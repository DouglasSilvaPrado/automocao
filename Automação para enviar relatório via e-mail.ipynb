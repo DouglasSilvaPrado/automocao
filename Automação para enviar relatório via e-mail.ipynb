{
 "cells": [
  {
   "cell_type": "code",
   "execution_count": 65,
   "metadata": {
    "ExecuteTime": {
     "end_time": "2021-04-27T22:30:13.668455Z",
     "start_time": "2021-04-27T22:30:13.659459Z"
    }
   },
   "outputs": [],
   "source": [
    "#Importando \n",
    "import pyautogui as pg\n",
    "from time import sleep\n",
    "import pyperclip"
   ]
  },
  {
   "cell_type": "code",
   "execution_count": 66,
   "metadata": {
    "ExecuteTime": {
     "end_time": "2021-04-27T22:30:37.467975Z",
     "start_time": "2021-04-27T22:30:13.671452Z"
    }
   },
   "outputs": [],
   "source": [
    "# Abrindo o navegador e baixando o arquivo no google driver\n",
    "pg.PAUSE = 1.0\n",
    "#alerta\n",
    "pg.alert('A Automaçao começou aperte ok, e tire a mão do mouse e teclado')\n",
    "\n",
    "# Abrindo uma nova aba\n",
    "pg.hotkey('ctrl', 't')\n",
    "\n",
    "# Digitando o link e apertando enter dps\n",
    "pg.write('https://drive.google.com/drive/u/0/folders/1wRTFw0sUVBjRr4hW5U9LF7DjLixRyxym')\n",
    "sleep(1)\n",
    "pg.press('enter')\n",
    "sleep(5)\n",
    "\n",
    "#  Outra opçao de Digita link e apertando enter dps\n",
    "# link('https://drive.google.com/drive/u/0/folders/1wRTFw0sUVBjRr4hW5U9LF7DjLixRyxym')\n",
    "# pyperclip.copy(link)\n",
    "# pg.hotkey('ctrl', 'v')\n",
    "# pg.press('enter')\n",
    "\n",
    "# Clicando nos botoes na sua posiçaos usando (pyautogui.position())e dps baixando o arquivo\n",
    "pg.click(1005, 381)\n",
    "pg.click(x=1256, y=190)\n",
    "pg.click(x=1113, y=512)\n",
    "sleep(10)"
   ]
  },
  {
   "cell_type": "code",
   "execution_count": 67,
   "metadata": {
    "ExecuteTime": {
     "end_time": "2021-04-27T22:30:38.981044Z",
     "start_time": "2021-04-27T22:30:37.471973Z"
    }
   },
   "outputs": [],
   "source": [
    "# importando bliblioteca e abrindo o dataset\n",
    "import pandas as pd\n",
    "df = pd.read_excel(r'C:/Users/douglas/Downloads/Vendas - Dez.xlsx')"
   ]
  },
  {
   "cell_type": "code",
   "execution_count": 68,
   "metadata": {
    "ExecuteTime": {
     "end_time": "2021-04-27T22:30:38.996036Z",
     "start_time": "2021-04-27T22:30:38.988040Z"
    }
   },
   "outputs": [],
   "source": [
    "# Pegando o faturamento total e qts de produto\n",
    "faturamento = df['Valor Final'].sum()\n",
    "qtproduto = df['Quantidade'].sum()"
   ]
  },
  {
   "cell_type": "code",
   "execution_count": 69,
   "metadata": {
    "ExecuteTime": {
     "end_time": "2021-04-27T22:31:16.714052Z",
     "start_time": "2021-04-27T22:30:39.000033Z"
    }
   },
   "outputs": [
    {
     "data": {
      "text/plain": [
       "'OK'"
      ]
     },
     "execution_count": 69,
     "metadata": {},
     "output_type": "execute_result"
    }
   ],
   "source": [
    "# Entrando no meu email\n",
    "\n",
    "# Abrindo uma nova guia\n",
    "pg.PAUSE = 1.0\n",
    "pg.hotkey('ctrl', 't')\n",
    "# Colocando o link em uma variavel\n",
    "link = 'https://mail.google.com/mail/u/0/#inbox'\n",
    "# Copiando o link\n",
    "pyperclip.copy(link)\n",
    "# Colando o link\n",
    "pg.hotkey('ctrl', 'v')\n",
    "sleep(1)\n",
    "pg.press('enter')\n",
    "sleep(10)\n",
    "# Escrever um novo email\n",
    "pg.click(x=117, y=198)\n",
    "sleep(5)\n",
    "# Digitando o email para quem quero enviar\n",
    "pg.write('douglas13maneiro@Gmail.com')\n",
    "pg.press('tab')\n",
    "sleep(1)\n",
    "\n",
    "# Digitando o assunto\n",
    "pg.press('tab')\n",
    "assunto ='Relatório de Vendas'\n",
    "pyperclip.copy(assunto)\n",
    "pg.hotkey('ctrl', 'v')\n",
    "sleep(1)\n",
    "\n",
    "# Digitando na Caixa de Texo\n",
    "caixa_texto = f\"\"\"\n",
    "Prezados, Bom dia !\n",
    "\n",
    "O Faturamento Total da Venda foi : {faturamento}\n",
    "A Quantidade Total de Produtos foi de : {qtproduto}\n",
    "\n",
    "abs\n",
    "Douglas da Silva Prado\n",
    "\"\"\"\n",
    "pg.press('tab')\n",
    "pyperclip.copy(caixa_texto)\n",
    "pg.hotkey('ctrl', 'v')\n",
    "sleep(1)\n",
    "\n",
    "# Enviando o relatorio\n",
    "pg.click(x=886, y=786)\n",
    "sleep(5)\n",
    "pg.alert('Fim, Pode usar seu PC, Obrigado por espera.')"
   ]
  }
 ],
 "metadata": {
  "kernelspec": {
   "display_name": "Python 3",
   "language": "python",
   "name": "python3"
  },
  "language_info": {
   "codemirror_mode": {
    "name": "ipython",
    "version": 3
   },
   "file_extension": ".py",
   "mimetype": "text/x-python",
   "name": "python",
   "nbconvert_exporter": "python",
   "pygments_lexer": "ipython3",
   "version": "3.8.5"
  }
 },
 "nbformat": 4,
 "nbformat_minor": 4
}
